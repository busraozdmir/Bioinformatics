{
 "cells": [
  {
   "cell_type": "code",
   "execution_count": 3,
   "metadata": {},
   "outputs": [
    {
     "name": "stdout",
     "output_type": "stream",
     "text": [
      "Requirement already satisfied: cyvcf2 in /opt/conda/lib/python3.11/site-packages (0.30.25)\n",
      "Requirement already satisfied: numpy in /opt/conda/lib/python3.11/site-packages (from cyvcf2) (1.25.2)\n",
      "Requirement already satisfied: coloredlogs in /opt/conda/lib/python3.11/site-packages (from cyvcf2) (15.0.1)\n",
      "Requirement already satisfied: click in /opt/conda/lib/python3.11/site-packages (from cyvcf2) (8.0.4)\n",
      "Requirement already satisfied: humanfriendly>=9.1 in /opt/conda/lib/python3.11/site-packages (from coloredlogs->cyvcf2) (10.0)\n"
     ]
    }
   ],
   "source": [
    "!pip install cyvcf2"
   ]
  },
  {
   "cell_type": "code",
   "execution_count": 4,
   "metadata": {},
   "outputs": [],
   "source": [
    "from cyvcf2 import VCF\n",
    "from cyvcf2 import Writer"
   ]
  },
  {
   "cell_type": "code",
   "execution_count": 5,
   "metadata": {},
   "outputs": [],
   "source": [
    "def filter_vcf(input_vcf, output_vcf):\n",
    "    vcf_reader = VCF(input_vcf)\n",
    "    vcf_writer = Writer(output_vcf, vcf_reader)\n",
    "\n",
    "    for variant in vcf_reader:\n",
    "        if variant.FILTER == None:\n",
    "            vcf_writer.write_record(variant)\n",
    "\n",
    "    vcf_writer.close()"
   ]
  },
  {
   "cell_type": "code",
   "execution_count": 6,
   "metadata": {},
   "outputs": [],
   "source": [
    "if __name__ == '__main__':\n",
    "    input_vcf_file = './mutect/norecal-bowtie-mutect-output3.recode.vcf'\n",
    "    output_vcf_file = './mutect/norecal-bowtie-mutect-filtered.vcf'\n",
    "    filter_vcf(input_vcf_file, output_vcf_file)\n",
    "\n",
    "    input_vcf_file = './mutect/recal-bowtie-mutect-output3.recode.vcf'\n",
    "    output_vcf_file = './mutect/recal-bowtie-mutect-filtered.vcf'\n",
    "    filter_vcf(input_vcf_file, output_vcf_file)\n",
    "    \n",
    "    input_vcf_file = './mutect/norecal-bwa-mutect-output3.recode.vcf'\n",
    "    output_vcf_file = './mutect/norecal-bwa-mutect-filtered.vcf'\n",
    "    filter_vcf(input_vcf_file, output_vcf_file)\n",
    "    \n",
    "    input_vcf_file = './mutect/recal-bwa-mutect-output3.recode.vcf'\n",
    "    output_vcf_file = './mutect/recal-bwa-mutect-filtered.vcf'\n",
    "    filter_vcf(input_vcf_file, output_vcf_file)\n",
    "\n",
    "    input_vcf_file = './strelka/norecal-bowtie-strelka-output3.recode.vcf'\n",
    "    output_vcf_file = './strelka/norecal-bowtie-strelka-filtered.vcf'\n",
    "    filter_vcf(input_vcf_file, output_vcf_file)\n",
    "\n",
    "    input_vcf_file = './strelka/recal-bowtie-strelka-output3.recode.vcf'\n",
    "    output_vcf_file = './strelka/recal-bowtie-strelka-filtered.vcf'\n",
    "    filter_vcf(input_vcf_file, output_vcf_file)\n",
    "\n",
    "    input_vcf_file = './strelka/norecal-bwa-strelka-output3.recode.vcf'\n",
    "    output_vcf_file = './strelka/norecal-bwa-strelka-filtered.vcf'\n",
    "    filter_vcf(input_vcf_file, output_vcf_file)\n",
    "\n",
    "    input_vcf_file = './strelka/recal-bwa-strelka-output3.recode.vcf'\n",
    "    output_vcf_file = './strelka/recal-bwa-strelka-filtered.vcf'\n",
    "    filter_vcf(input_vcf_file, output_vcf_file)\n",
    "\n",
    "    input_vcf_file = './mutect2/norecal-bowtie-mutect-output3.recode.vcf'\n",
    "    output_vcf_file = './mutect2/norecal-bowtie-mutect-filtered.vcf'\n",
    "    filter_vcf(input_vcf_file, output_vcf_file)\n",
    "\n",
    "    input_vcf_file = './mutect2/recal-bowtie-mutect-output3.recode.vcf'\n",
    "    output_vcf_file = './mutect2/recal-bowtie-mutect-filtered.vcf'\n",
    "    filter_vcf(input_vcf_file, output_vcf_file)\n",
    "    \n",
    "    input_vcf_file = './mutect2/norecal-bwa-mutect-output3.recode.vcf'\n",
    "    output_vcf_file = './mutect2/norecal-bwa-mutect-filtered.vcf'\n",
    "    filter_vcf(input_vcf_file, output_vcf_file)\n",
    "    \n",
    "    input_vcf_file = './mutect2/recal-bwa-mutect-output3.recode.vcf'\n",
    "    output_vcf_file = './mutect2/recal-bwa-mutect-filtered.vcf'\n",
    "    filter_vcf(input_vcf_file, output_vcf_file)"
   ]
  }
 ],
 "metadata": {
  "kernelspec": {
   "display_name": "base",
   "language": "python",
   "name": "python3"
  },
  "language_info": {
   "codemirror_mode": {
    "name": "ipython",
    "version": 3
   },
   "file_extension": ".py",
   "mimetype": "text/x-python",
   "name": "python",
   "nbconvert_exporter": "python",
   "pygments_lexer": "ipython3",
   "version": "3.11.5"
  }
 },
 "nbformat": 4,
 "nbformat_minor": 2
}
